{
 "cells": [
  {
   "cell_type": "markdown",
   "id": "52252fb5",
   "metadata": {},
   "source": [
    "# Machine Learning Assignment – Naive Bayes, Decision Trees & Ensemble Learning\n",
    "\n",
    "This notebook contains implementations and answers to conceptual questions on Naive Bayes, Decision Trees, and Ensemble Learning."
   ]
  },
  {
   "cell_type": "markdown",
   "id": "105b544f",
   "metadata": {},
   "source": [
    "## Part I: Naive Bayes Classifier"
   ]
  },
  {
   "cell_type": "markdown",
   "id": "7a135325",
   "metadata": {},
   "source": [
    "### Task 1: Theory Questions\n",
    "1. **What is the core assumption of Naive Bayes?**  \n",
    "   It assumes that all features are conditionally independent given the class label.\n",
    "\n",
    "2. **Differentiate between GaussianNB, MultinomialNB, and BernoulliNB.**  \n",
    "   - GaussianNB: For continuous features assuming Gaussian distribution.  \n",
    "   - MultinomialNB: For count features (e.g., word counts).  \n",
    "   - BernoulliNB: For binary features.\n",
    "\n",
    "3. **Why is Naive Bayes considered suitable for high-dimensional data?**  \n",
    "   It's computationally efficient and handles large feature spaces well due to independence assumption."
   ]
  },
  {
   "cell_type": "markdown",
   "id": "279f0c8a",
   "metadata": {},
   "source": [
    "### Task 2: Spam Detection using MultinomialNB"
   ]
  },
  {
   "cell_type": "code",
   "execution_count": null,
   "id": "d8722a6b",
   "metadata": {},
   "outputs": [],
   "source": [
    "\n",
    "import pandas as pd\n",
    "from sklearn.model_selection import train_test_split\n",
    "from sklearn.feature_extraction.text import CountVectorizer\n",
    "from sklearn.naive_bayes import MultinomialNB\n",
    "from sklearn.metrics import accuracy_score, precision_score, recall_score, confusion_matrix\n",
    "\n",
    "# Load SMS Spam Collection Dataset (replace this path if needed)\n",
    "url = 'https://raw.githubusercontent.com/justmarkham/pycon-2016-tutorial/master/data/sms.tsv'\n",
    "df = pd.read_csv(url, sep='\\t', header=None, names=['label', 'message'])\n",
    "\n",
    "# Encode labels\n",
    "df['label_num'] = df.label.map({'ham': 0, 'spam': 1})\n",
    "\n",
    "# Vectorize\n",
    "vectorizer = CountVectorizer()\n",
    "X = vectorizer.fit_transform(df['message'])\n",
    "y = df['label_num']\n",
    "\n",
    "# Split\n",
    "X_train, X_test, y_train, y_test = train_test_split(X, y, test_size=0.25, random_state=42)\n",
    "\n",
    "# Train\n",
    "model = MultinomialNB()\n",
    "model.fit(X_train, y_train)\n",
    "y_pred = model.predict(X_test)\n",
    "\n",
    "# Evaluate\n",
    "print(\"Accuracy:\", accuracy_score(y_test, y_pred))\n",
    "print(\"Precision:\", precision_score(y_test, y_pred))\n",
    "print(\"Recall:\", recall_score(y_test, y_pred))\n",
    "print(\"Confusion Matrix:\\n\", confusion_matrix(y_test, y_pred))\n"
   ]
  },
  {
   "cell_type": "markdown",
   "id": "dc35a8d5",
   "metadata": {},
   "source": [
    "### Task 3: GaussianNB with Iris Dataset"
   ]
  },
  {
   "cell_type": "code",
   "execution_count": null,
   "id": "edd5d92b",
   "metadata": {},
   "outputs": [],
   "source": [
    "\n",
    "from sklearn.datasets import load_iris\n",
    "from sklearn.naive_bayes import GaussianNB\n",
    "from sklearn.metrics import classification_report\n",
    "from sklearn.linear_model import LogisticRegression\n",
    "from sklearn.tree import DecisionTreeClassifier\n",
    "\n",
    "# Load dataset\n",
    "iris = load_iris()\n",
    "X, y = iris.data, iris.target\n",
    "\n",
    "# Split\n",
    "X_train, X_test, y_train, y_test = train_test_split(X, y, test_size=0.3, random_state=42)\n",
    "\n",
    "# GaussianNB\n",
    "gnb = GaussianNB()\n",
    "gnb.fit(X_train, y_train)\n",
    "y_pred_gnb = gnb.predict(X_test)\n",
    "print(\"GaussianNB Classification Report:\\n\", classification_report(y_test, y_pred_gnb))\n",
    "\n",
    "# Compare with Logistic Regression\n",
    "lr = LogisticRegression(max_iter=200)\n",
    "lr.fit(X_train, y_train)\n",
    "y_pred_lr = lr.predict(X_test)\n",
    "print(\"Logistic Regression Classification Report:\\n\", classification_report(y_test, y_pred_lr))\n",
    "\n",
    "# Compare with Decision Tree\n",
    "dt = DecisionTreeClassifier()\n",
    "dt.fit(X_train, y_train)\n",
    "y_pred_dt = dt.predict(X_test)\n",
    "print(\"Decision Tree Classification Report:\\n\", classification_report(y_test, y_pred_dt))\n"
   ]
  },
  {
   "cell_type": "markdown",
   "id": "18adcc13",
   "metadata": {},
   "source": [
    "## Part II: Decision Trees"
   ]
  },
  {
   "cell_type": "markdown",
   "id": "4e939681",
   "metadata": {},
   "source": [
    "\n",
    "### Task 4: Conceptual Questions\n",
    "\n",
    "1. **What is entropy and information gain?**  \n",
    "   - Entropy measures the impurity or uncertainty in a dataset.  \n",
    "   - Information gain is the reduction in entropy after a dataset is split on an attribute.\n",
    "\n",
    "2. **Explain the difference between Gini Index and Entropy.**  \n",
    "   - Gini measures impurity by calculating the probability of misclassification.  \n",
    "   - Entropy uses logarithmic calculations to quantify impurity.\n",
    "\n",
    "3. **How can a decision tree overfit? How can this be avoided?**  \n",
    "   - A tree can overfit by growing too deep and capturing noise.  \n",
    "   - Use pruning, max depth limits, and minimum samples per split to avoid overfitting.\n"
   ]
  },
  {
   "cell_type": "markdown",
   "id": "8a4d3df2",
   "metadata": {},
   "source": [
    "### Task 5: Decision Tree on Titanic Dataset"
   ]
  },
  {
   "cell_type": "code",
   "execution_count": null,
   "id": "511c9b36",
   "metadata": {},
   "outputs": [],
   "source": [
    "\n",
    "import seaborn as sns\n",
    "from sklearn.tree import DecisionTreeClassifier, plot_tree\n",
    "from sklearn.preprocessing import LabelEncoder\n",
    "\n",
    "# Load Titanic dataset\n",
    "df = sns.load_dataset('titanic')\n",
    "df = df[['survived', 'pclass', 'sex', 'age', 'fare', 'embarked']].dropna()\n",
    "\n",
    "# Encode categorical\n",
    "df['sex'] = LabelEncoder().fit_transform(df['sex'])\n",
    "df['embarked'] = LabelEncoder().fit_transform(df['embarked'])\n",
    "\n",
    "# Split\n",
    "X = df.drop('survived', axis=1)\n",
    "y = df['survived']\n",
    "X_train, X_test, y_train, y_test = train_test_split(X, y, test_size=0.2, random_state=42)\n",
    "\n",
    "# Train\n",
    "tree_model = DecisionTreeClassifier(random_state=42)\n",
    "tree_model.fit(X_train, y_train)\n",
    "\n",
    "# Evaluate\n",
    "y_pred = tree_model.predict(X_test)\n",
    "print(\"Accuracy:\", accuracy_score(y_test, y_pred))\n",
    "print(\"Confusion Matrix:\\n\", confusion_matrix(y_test, y_pred))\n",
    "\n",
    "# Plot\n",
    "import matplotlib.pyplot as plt\n",
    "plt.figure(figsize=(15, 8))\n",
    "plot_tree(tree_model, feature_names=X.columns, class_names=[\"Not Survived\", \"Survived\"], filled=True)\n",
    "plt.show()\n"
   ]
  },
  {
   "cell_type": "markdown",
   "id": "9ddf3e8b",
   "metadata": {},
   "source": [
    "### Task 6: Model Tuning"
   ]
  },
  {
   "cell_type": "code",
   "execution_count": null,
   "id": "314f2d89",
   "metadata": {},
   "outputs": [],
   "source": [
    "\n",
    "train_acc = []\n",
    "test_acc = []\n",
    "depths = range(1, 15)\n",
    "\n",
    "for d in depths:\n",
    "    model = DecisionTreeClassifier(max_depth=d, random_state=42)\n",
    "    model.fit(X_train, y_train)\n",
    "    train_acc.append(model.score(X_train, y_train))\n",
    "    test_acc.append(model.score(X_test, y_test))\n",
    "\n",
    "plt.plot(depths, train_acc, label=\"Train Accuracy\")\n",
    "plt.plot(depths, test_acc, label=\"Test Accuracy\")\n",
    "plt.xlabel(\"max_depth\")\n",
    "plt.ylabel(\"Accuracy\")\n",
    "plt.title(\"Training vs Testing Accuracy\")\n",
    "plt.legend()\n",
    "plt.grid(True)\n",
    "plt.show()\n"
   ]
  },
  {
   "cell_type": "markdown",
   "id": "b04b717a",
   "metadata": {},
   "source": [
    "## Part III: Ensemble Learning – Bagging, Boosting, Random Forest"
   ]
  },
  {
   "cell_type": "markdown",
   "id": "4816ea24",
   "metadata": {},
   "source": [
    "\n",
    "### Task 7: Conceptual Questions\n",
    "\n",
    "1. **What is the difference between Bagging and Boosting?**  \n",
    "   - Bagging trains multiple models independently in parallel.  \n",
    "   - Boosting trains models sequentially, each learning from previous errors.\n",
    "\n",
    "2. **How does Random Forest reduce variance?**  \n",
    "   - By averaging predictions of multiple decision trees trained on different data subsets.\n",
    "\n",
    "3. **What is the weakness of boosting-based methods?**  \n",
    "   - They are sensitive to noisy data and outliers.\n"
   ]
  },
  {
   "cell_type": "markdown",
   "id": "7f85743b",
   "metadata": {},
   "source": [
    "### Task 8: Random Forest vs Decision Tree"
   ]
  },
  {
   "cell_type": "code",
   "execution_count": null,
   "id": "86c2a0e4",
   "metadata": {},
   "outputs": [],
   "source": [
    "\n",
    "from sklearn.ensemble import RandomForestClassifier\n",
    "\n",
    "# Train Random Forest\n",
    "rf_model = RandomForestClassifier(random_state=42)\n",
    "rf_model.fit(X_train, y_train)\n",
    "y_pred_rf = rf_model.predict(X_test)\n",
    "\n",
    "print(\"Random Forest Accuracy:\", accuracy_score(y_test, y_pred_rf))\n",
    "print(\"Random Forest Precision:\", precision_score(y_test, y_pred_rf))\n",
    "print(\"Random Forest Recall:\", recall_score(y_test, y_pred_rf))\n",
    "\n",
    "# Feature importances\n",
    "importances = pd.Series(rf_model.feature_importances_, index=X.columns)\n",
    "importances.sort_values().plot(kind='barh', title=\"Feature Importances\")\n",
    "plt.show()\n"
   ]
  },
  {
   "cell_type": "markdown",
   "id": "d0d8c750",
   "metadata": {},
   "source": [
    "### Task 9: AdaBoost or Gradient Boosting"
   ]
  },
  {
   "cell_type": "code",
   "execution_count": null,
   "id": "b31e57ff",
   "metadata": {},
   "outputs": [],
   "source": [
    "\n",
    "from sklearn.ensemble import AdaBoostClassifier, GradientBoostingClassifier\n",
    "from sklearn.metrics import f1_score\n",
    "import time\n",
    "\n",
    "# AdaBoost\n",
    "start = time.time()\n",
    "ab = AdaBoostClassifier(n_estimators=100, random_state=42)\n",
    "ab.fit(X_train, y_train)\n",
    "y_pred_ab = ab.predict(X_test)\n",
    "end = time.time()\n",
    "\n",
    "print(\"AdaBoost Accuracy:\", accuracy_score(y_test, y_pred_ab))\n",
    "print(\"AdaBoost F1 Score:\", f1_score(y_test, y_pred_ab))\n",
    "print(\"Training Time:\", round(end - start, 2), \"seconds\")\n",
    "\n",
    "# Gradient Boosting\n",
    "start = time.time()\n",
    "gb = GradientBoostingClassifier(n_estimators=100, random_state=42)\n",
    "gb.fit(X_train, y_train)\n",
    "y_pred_gb = gb.predict(X_test)\n",
    "end = time.time()\n",
    "\n",
    "print(\"Gradient Boosting Accuracy:\", accuracy_score(y_test, y_pred_gb))\n",
    "print(\"Gradient Boosting F1 Score:\", f1_score(y_test, y_pred_gb))\n",
    "print(\"Training Time:\", round(end - start, 2), \"seconds\")\n"
   ]
  }
 ],
 "metadata": {},
 "nbformat": 4,
 "nbformat_minor": 5
}
